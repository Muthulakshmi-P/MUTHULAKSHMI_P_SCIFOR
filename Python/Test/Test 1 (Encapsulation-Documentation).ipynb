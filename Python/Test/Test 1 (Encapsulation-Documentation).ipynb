{
 "cells": [
  {
   "cell_type": "markdown",
   "id": "79983918-2f58-4292-9996-4654b43e1d68",
   "metadata": {},
   "source": [
    "# 14/06/2024                                (Test)"
   ]
  },
  {
   "cell_type": "markdown",
   "id": "420a97b2-ce8e-43aa-b4cb-4cbc55910a55",
   "metadata": {},
   "source": [
    "# Write a documentation in python which have encapsulation basics, real life example, and implementation."
   ]
  },
  {
   "cell_type": "code",
   "execution_count": 2,
   "id": "e431a854-c1de-418f-a1fe-2829862ed583",
   "metadata": {},
   "outputs": [],
   "source": [
    "# Encapsulation:\n",
    "            # Encapsulation is one of the fundamental concepts in object-oriented programming (OOP).\n",
    "            # Encapsulation is the process of combining variables that store data \n",
    "                     #and methods that work on those variables into a single unit called class.\n",
    "            # In Encapsulation, the variables are not accessed directly; it is accessed through the methods present in the class.\n",
    "            # Encapsulation ensures that the object’s internal representation (its state and behavior) are hidden from the rest of the application.\n",
    "            # Thus, encapsulation makes the concept of data hiding possible\n",
    "\n",
    "# In Python, encapsulation is achieved by using private and public access specifiers.\n"
   ]
  },
  {
   "cell_type": "code",
   "execution_count": null,
   "id": "ce4647b6-9a4d-4101-9a8c-f82ba19ede89",
   "metadata": {},
   "outputs": [],
   "source": []
  },
  {
   "cell_type": "markdown",
   "id": "1ab7a80b-df51-467a-883b-41430d9e6419",
   "metadata": {},
   "source": [
    "### Encapsulation Example.1: Point Quadrant Determination"
   ]
  },
  {
   "cell_type": "code",
   "execution_count": 16,
   "id": "9e7557a7-bef7-4862-ac62-511c0cc7068c",
   "metadata": {
    "scrolled": true
   },
   "outputs": [
    {
     "name": "stdin",
     "output_type": "stream",
     "text": [
      "Enter the x-coordinate of the point:  5\n",
      "Enter the y-coordinate of the point:  12\n"
     ]
    },
    {
     "name": "stdout",
     "output_type": "stream",
     "text": [
      "Quadrant: First Quadrant\n"
     ]
    }
   ],
   "source": [
    "#Solution:\n",
    "\n",
    "class Point:\n",
    "    def __init__(self, x, y):\n",
    "        self._x = x                                  # private attribute\n",
    "        self._y = y                                  # private attribute\n",
    "\n",
    "    def get_x(self): return self._x                  # Gets the x-coordinate of the point.\n",
    "\n",
    "\n",
    "    def get_y(self): return self._y                  # Gets the y-coordinate of the point.\n",
    "\n",
    "    def determine_quadrant(self):\n",
    "                                                     # Determines the quadrant of the point\n",
    "        x = self.get_x()\n",
    "        y = self.get_y()\n",
    "\n",
    "        if x > 0 and y > 0:\n",
    "            return \"First Quadrant\"\n",
    "        elif x < 0 and y > 0:\n",
    "            return \"Second Quadrant\"\n",
    "        elif x < 0 and y < 0:\n",
    "            return \"Third Quadrant\"\n",
    "        elif x > 0 and y < 0:\n",
    "            return \"Fourth Quadrant\"\n",
    "        else:\n",
    "            return \"On one of the axes or at the origin\"\n",
    "\n",
    "\n",
    "# Test case:\n",
    "x = float(input(\"Enter the x-coordinate of the point: \"))\n",
    "y = float(input(\"Enter the y-coordinate of the point: \"))\n",
    "\n",
    "point = Point(x, y)\n",
    "print(\"Quadrant:\", point.determine_quadrant())\n"
   ]
  },
  {
   "cell_type": "code",
   "execution_count": null,
   "id": "4dda6253-ad04-4c09-9415-0cec8b173ac0",
   "metadata": {},
   "outputs": [],
   "source": []
  },
  {
   "cell_type": "markdown",
   "id": "75cc2b4a-256c-4860-acd3-c495fedce557",
   "metadata": {},
   "source": [
    "### Encapsulation Example.2: Bank Account Statement Through Deposit & Withdrawal Machine"
   ]
  },
  {
   "cell_type": "code",
   "execution_count": 18,
   "id": "ed0d70f1-494d-465a-a2de-52b47b5b16f7",
   "metadata": {
    "scrolled": true
   },
   "outputs": [
    {
     "name": "stdout",
     "output_type": "stream",
     "text": [
      "Welcome to the XYZ Bank's Deposit & Withdrawal Machine\n"
     ]
    },
    {
     "name": "stdin",
     "output_type": "stream",
     "text": [
      "Enter your ATM PIN:  1234\n"
     ]
    },
    {
     "name": "stdout",
     "output_type": "stream",
     "text": [
      "PIN verified successfully.\n",
      " 1. Deposit\n",
      " 2. Withdraw\n",
      " 3. Check Balance\n"
     ]
    },
    {
     "name": "stdin",
     "output_type": "stream",
     "text": [
      "Enter your option (1 or 2 or 3):  2\n",
      "Enter withdraw amount: $ 300\n"
     ]
    },
    {
     "name": "stdout",
     "output_type": "stream",
     "text": [
      "Collect your cash\n",
      "Current Balance: $4700.00\n",
      "Collect the Receipt\n",
      "Thank you! Visit again!\n"
     ]
    }
   ],
   "source": [
    "# Solution:\n",
    "\n",
    "import time\n",
    "class Bank:\n",
    "    def __init__(self, pin, balance=0):\n",
    "        self.pin = pin\n",
    "        self.balance = balance\n",
    "\n",
    "    def verify_pin(self, entered_pin):\n",
    "        return entered_pin == self.pin\n",
    "\n",
    "    \n",
    "# function to withdrawal of money\n",
    "    def withdraw(self, amount):\n",
    "        if amount <= 0:\n",
    "            print(\"Invalid withdrawal amount.\")\n",
    "            return\n",
    "\n",
    "        if self.balance >= amount:\n",
    "            self.balance -= amount\n",
    "            \n",
    "        else:\n",
    "            print(\"Insufficient balance.\")\n",
    "\n",
    "    \n",
    "#function to deposit the money\n",
    "    def deposit(self, amount):\n",
    "        if amount <= 0:\n",
    "            print(\"Invalid deposit amount.\")\n",
    "            return\n",
    "        else:\n",
    "            self.balance += amount\n",
    "  \n",
    "#function to display the balance\n",
    "    def display_balance(self):\n",
    "        print(f\"Current Balance: ${self.balance:.2f}\")\n",
    "\n",
    "#Test case\n",
    "bank = Bank(pin=\"1234\", balance=5000)\n",
    "\n",
    "#display statements of the machine\n",
    "print(\"Welcome to the XYZ Bank's Deposit & Withdrawal Machine\")\n",
    "\n",
    "entered_pin = input(\"Enter your ATM PIN: \")\n",
    "if bank.verify_pin(entered_pin):\n",
    "    print(\"PIN verified successfully.\")\n",
    "    \n",
    "    print(\" 1. Deposit\")\n",
    "    print(\" 2. Withdraw\")\n",
    "    print(\" 3. Check Balance\")\n",
    "    \n",
    "    option = input(\"Enter your option (1 or 2 or 3): \")\n",
    "\n",
    "    if option == \"1\":\n",
    "        deposit_amount = float(input(\"Enter deposit amount: $\"))\n",
    "        bank.deposit(deposit_amount)\n",
    "        print(\"Place your cash\")\n",
    "        time.sleep(5)                                                 # sleep function halts the execution of the program for given time in seconds.\n",
    "        print(\"Transaction completed Successfully\")\n",
    "        bank.display_balance()\n",
    "    elif option == \"2\":\n",
    "        withdraw_amount = float(input(\"Enter withdraw amount: $\"))\n",
    "        bank.withdraw(withdraw_amount)\n",
    "        time.sleep(5)\n",
    "        print(\"Collect your cash\")\n",
    "        bank.display_balance()\n",
    "    else:\n",
    "        bank.display_balance()\n",
    "\n",
    "    print(\"Collect the Receipt\")\n",
    "else:\n",
    "    print(\"Invalid PIN. Access denied.\")    \n",
    "\n",
    "print(\"Thank you! Visit again!\")"
   ]
  },
  {
   "cell_type": "code",
   "execution_count": null,
   "id": "9523263c-cb4d-4219-b891-6e743b35b522",
   "metadata": {},
   "outputs": [],
   "source": []
  },
  {
   "cell_type": "markdown",
   "id": "efaf9ab1-4dac-40ea-b05d-00ec94251bb3",
   "metadata": {},
   "source": [
    "### Encapsulation Example.3: Grading system of Students\n"
   ]
  },
  {
   "cell_type": "code",
   "execution_count": null,
   "id": "0d4e44ed-a06b-47af-b6b6-acc1bc6161d1",
   "metadata": {},
   "outputs": [],
   "source": []
  },
  {
   "cell_type": "code",
   "execution_count": 37,
   "id": "156e39ee-12c0-44e3-8374-0e7c716aa35d",
   "metadata": {
    "scrolled": true
   },
   "outputs": [
    {
     "name": "stdout",
     "output_type": "stream",
     "text": [
      "Average Grade score of Ram : 85.0\n",
      "Ram  : Grade B\n",
      "\n",
      "Average Grade score of Sita : 71.67\n",
      "Sita  : Grade C\n"
     ]
    }
   ],
   "source": [
    "# Solution:\n",
    "\n",
    "class Student:\n",
    "    def __init__(self, name):\n",
    "        self._name = name                              \n",
    "        self._grades = []                               \n",
    "\n",
    "    def add_grade(self, grade):\n",
    "        if 0 <= grade <= 100:                                 # Prints an error message if the grade is outside the range 0-100.\n",
    "            self._grades.append(grade)\n",
    "        else:\n",
    "            print(\"Grade must be between 0 and 40.\")\n",
    "\n",
    "    def get_average_grade(self):                             # Calculate the average grade of the student\n",
    "        if len(self._grades) == 0:                           \n",
    "            return None\n",
    "        else:\n",
    "            return round(sum(self._grades)/ len(self._grades),2)\n",
    "    \n",
    "    def display_grades(self):                                 # Display the name of the student, their average grade, and corresponding letter grade.\n",
    "\n",
    "       \n",
    "        if  self.get_average_grade() <= 100 and self.get_average_grade() >= 90:\n",
    "            print (f\"{self._name}  : Grade A\")\n",
    "        elif self.get_average_grade() <= 89 and self.get_average_grade() >= 80:\n",
    "            print (f\"{self._name}  : Grade B\")\n",
    "        elif self.get_average_grade() <= 79 and self.get_average_grade() >= 70:\n",
    "            print (f\"{self._name}  : Grade C\")\n",
    "        elif self.get_average_grade() <= 69 and self.get_average_grade() >= 60:\n",
    "            print (f\"{self._name}  : Grade D\")\n",
    "        elif self.get_average_grade() <= 59 and self.get_average_grade() >= 0:\n",
    "            print (f\"{self._name}  : Grade F\")\n",
    "        else:\n",
    "            print (\"Invalid Grade\")                         # Prints \"Invalid Grade\" if the average grade is outside the 0-100 range.\n",
    "            \n",
    "# Test case 1:\n",
    "student1 = Student(\"Ram\")                                   # new object created in class Student\n",
    "student1.add_grade(85)\n",
    "student1.add_grade(92)\n",
    "student1.add_grade(78)\n",
    "\n",
    "# Test case 2:\n",
    "student2 = Student(\"Sita\")\n",
    "student2.add_grade(70)\n",
    "student2.add_grade(65)\n",
    "student2.add_grade(80)\n",
    "\n",
    "print(\"Average Grade score of\", student1._name, \":\", student1.get_average_grade())\n",
    "student1.display_grades()\n",
    "\n",
    "print(\"\\nAverage Grade score of\", student2._name, \":\", student2.get_average_grade())\n",
    "student2.display_grades()\n"
   ]
  },
  {
   "cell_type": "code",
   "execution_count": null,
   "id": "2c2a8f37-bbfa-493e-a7e3-dc764ea84973",
   "metadata": {},
   "outputs": [],
   "source": []
  }
 ],
 "metadata": {
  "kernelspec": {
   "display_name": "Python 3 (ipykernel)",
   "language": "python",
   "name": "python3"
  },
  "language_info": {
   "codemirror_mode": {
    "name": "ipython",
    "version": 3
   },
   "file_extension": ".py",
   "mimetype": "text/x-python",
   "name": "python",
   "nbconvert_exporter": "python",
   "pygments_lexer": "ipython3",
   "version": "3.11.7"
  }
 },
 "nbformat": 4,
 "nbformat_minor": 5
}
