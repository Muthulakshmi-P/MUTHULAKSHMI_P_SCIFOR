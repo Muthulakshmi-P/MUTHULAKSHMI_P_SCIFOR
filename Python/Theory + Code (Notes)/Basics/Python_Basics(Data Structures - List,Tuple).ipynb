{
 "cells": [
  {
   "cell_type": "markdown",
   "id": "94b6fce8-7cbb-4df0-9b13-5c3b54a20fca",
   "metadata": {},
   "source": [
    "NOTEBOOK 3:"
   ]
  },
  {
   "cell_type": "markdown",
   "id": "51767091-f65d-4623-a118-c066725a5056",
   "metadata": {},
   "source": [
    "# DATA STRUCTURES:"
   ]
  },
  {
   "cell_type": "code",
   "execution_count": 298,
   "id": "6a3746b6-e94c-4474-b4aa-40d9fc33ea4e",
   "metadata": {},
   "outputs": [],
   "source": [
    "# Data Structures are fundamentals of any programming language around which a program is built.\n",
    "\n",
    "# Data Structures are a way of organizing data so that it can be accessed more efficiently"
   ]
  },
  {
   "cell_type": "code",
   "execution_count": null,
   "id": "c8a24ede-04b3-4bf0-a692-a6be80878a63",
   "metadata": {},
   "outputs": [],
   "source": []
  },
  {
   "cell_type": "markdown",
   "id": "62d4aa7e-5d21-4781-8795-7cc30fade104",
   "metadata": {},
   "source": [
    "### LIST:"
   ]
  },
  {
   "cell_type": "code",
   "execution_count": 299,
   "id": "a59f257d-98f4-42c8-9740-bc413ced5771",
   "metadata": {},
   "outputs": [],
   "source": [
    "# A data structure that helps to store and manipulates an ordered collection of items.\n",
    "\n",
    "# [] - this square bracket used to identify the list."
   ]
  },
  {
   "cell_type": "code",
   "execution_count": 300,
   "id": "dbe917f9-2edf-4b31-a6ec-a0b9c5092236",
   "metadata": {},
   "outputs": [],
   "source": [
    "thislist = [\"apple\", \"banana\", \"cherry\"]"
   ]
  },
  {
   "cell_type": "code",
   "execution_count": 301,
   "id": "3f306962-ea93-4b7a-ade0-1184478faf3f",
   "metadata": {},
   "outputs": [],
   "source": [
    "# List items are ordered, changeable, and allow duplicate values\n",
    "\n",
    "# item 0 = apple\n",
    "# item 1 = banana\n",
    "# item 2 = cherry\n",
    "\n",
    "# List items are indexed, the first item has index [0], the second item has index [1] etc.\n",
    "\n",
    "# Negative indexing means start from the end\n",
    "# -1 refers to the last item, -2 refers to the second last item etc."
   ]
  },
  {
   "cell_type": "code",
   "execution_count": 302,
   "id": "7af700e5-f83f-438a-a129-655a7b17e42f",
   "metadata": {},
   "outputs": [],
   "source": [
    "# When we say that lists are ordered, it means that the items have a defined order, and that order will not change.\n",
    "\n",
    "# If you add new items to a list, the new items will be placed at the end of the list."
   ]
  },
  {
   "cell_type": "code",
   "execution_count": 303,
   "id": "b545d120-f6f3-4a0b-8888-d04932fe43a8",
   "metadata": {},
   "outputs": [],
   "source": [
    "# The list is mutable, meaning that we can change, add, and remove items in a list after it has been created."
   ]
  },
  {
   "cell_type": "markdown",
   "id": "107572a4-9d96-4275-8b25-c2b6fe884bb9",
   "metadata": {},
   "source": [
    "## Access the list items:"
   ]
  },
  {
   "cell_type": "code",
   "execution_count": 304,
   "id": "a54a337f-4503-4833-a2ca-486507135941",
   "metadata": {},
   "outputs": [],
   "source": [
    "# List allows duplicate values"
   ]
  },
  {
   "cell_type": "code",
   "execution_count": 305,
   "id": "38c1b858-2026-4f2d-b931-abcdd09e8b2a",
   "metadata": {},
   "outputs": [
    {
     "name": "stdout",
     "output_type": "stream",
     "text": [
      "['apple', 'banana', 'cherry', 'apple', 'cherry']\n"
     ]
    }
   ],
   "source": [
    "thislist = [\"apple\", \"banana\", \"cherry\", \"apple\", \"cherry\"]\n",
    "print(thislist)"
   ]
  },
  {
   "cell_type": "code",
   "execution_count": 306,
   "id": "e9d79035-4419-4398-a77e-1d198be25532",
   "metadata": {},
   "outputs": [],
   "source": [
    "# To determine how many items a list has, use the len() function."
   ]
  },
  {
   "cell_type": "code",
   "execution_count": 307,
   "id": "17b039a9-fb9b-4202-936f-a34436fd89ac",
   "metadata": {},
   "outputs": [
    {
     "name": "stdout",
     "output_type": "stream",
     "text": [
      "5\n"
     ]
    }
   ],
   "source": [
    "thislist = [\"apple\", \"banana\", \"cherry\", \"apple\", \"cherry\"]\n",
    "print(len(thislist))"
   ]
  },
  {
   "cell_type": "code",
   "execution_count": 308,
   "id": "db9f55f1-007c-441f-95fa-4b0c4e4d837c",
   "metadata": {},
   "outputs": [],
   "source": [
    "# access the part of the list by slicing\n",
    "# The search will start at index 2 (included) and end at index 5 (not included)."
   ]
  },
  {
   "cell_type": "code",
   "execution_count": 309,
   "id": "9bbbdcd7-6568-4cc3-9f57-3b435fcf564c",
   "metadata": {},
   "outputs": [
    {
     "data": {
      "text/plain": [
       "['rabbit', 'cow', 'goat']"
      ]
     },
     "execution_count": 309,
     "metadata": {},
     "output_type": "execute_result"
    }
   ],
   "source": [
    "x= ['cat', 'dog', 'rabbit', 'cow', 'goat']\n",
    "x[2:5]"
   ]
  },
  {
   "cell_type": "code",
   "execution_count": 310,
   "id": "d5b87f3f-62a1-4b14-89d7-f39761878e67",
   "metadata": {},
   "outputs": [],
   "source": [
    "# Omit the first value of the slice which implies the value of 0."
   ]
  },
  {
   "cell_type": "code",
   "execution_count": 311,
   "id": "f17dee99-1996-421c-98bf-c727359bc086",
   "metadata": {},
   "outputs": [
    {
     "data": {
      "text/plain": [
       "['cat', 'dog']"
      ]
     },
     "execution_count": 311,
     "metadata": {},
     "output_type": "execute_result"
    }
   ],
   "source": [
    "x[:2]"
   ]
  },
  {
   "cell_type": "code",
   "execution_count": 312,
   "id": "cd55877f-2053-4ec7-95ee-0edc776059f9",
   "metadata": {},
   "outputs": [],
   "source": [
    "# Omit the last value of the slice which implies the len(list)"
   ]
  },
  {
   "cell_type": "code",
   "execution_count": 313,
   "id": "5f1c9716-b6f4-400e-a470-5a2108279720",
   "metadata": {},
   "outputs": [
    {
     "data": {
      "text/plain": [
       "['cow', 'goat']"
      ]
     },
     "execution_count": 313,
     "metadata": {},
     "output_type": "execute_result"
    }
   ],
   "source": [
    "x[3:]"
   ]
  },
  {
   "cell_type": "code",
   "execution_count": 314,
   "id": "3f393768-11d3-47c6-bc76-20da8d2862a5",
   "metadata": {},
   "outputs": [
    {
     "data": {
      "text/plain": [
       "list"
      ]
     },
     "execution_count": 314,
     "metadata": {},
     "output_type": "execute_result"
    }
   ],
   "source": [
    "type(x)"
   ]
  },
  {
   "cell_type": "code",
   "execution_count": 315,
   "id": "5ecb743f-daee-416b-b1f4-cb5ab823ccf2",
   "metadata": {},
   "outputs": [],
   "source": [
    "# It is also possible to use the list() constructor when creating a new list."
   ]
  },
  {
   "cell_type": "code",
   "execution_count": 316,
   "id": "17ff6ceb-3501-47f2-a8ec-45af4d206a80",
   "metadata": {},
   "outputs": [
    {
     "name": "stdout",
     "output_type": "stream",
     "text": [
      "['apple', 'banana', 'cherry']\n"
     ]
    }
   ],
   "source": [
    "thislist = list((\"apple\", \"banana\", \"cherry\")) # note the double round-brackets\n",
    "print(thislist)"
   ]
  },
  {
   "cell_type": "code",
   "execution_count": 317,
   "id": "7ac4c1e9-0239-4fda-8374-828293454b2a",
   "metadata": {},
   "outputs": [],
   "source": [
    "# To determine if a specified item is present in a list use the in keyword."
   ]
  },
  {
   "cell_type": "code",
   "execution_count": 318,
   "id": "761f139b-1187-472f-b410-3a36b04977a5",
   "metadata": {},
   "outputs": [
    {
     "name": "stdout",
     "output_type": "stream",
     "text": [
      "yes, item dog is in this list x\n"
     ]
    }
   ],
   "source": [
    "if \"dog\" in x:\n",
    "    print('yes, item dog is in this list x')"
   ]
  },
  {
   "cell_type": "markdown",
   "id": "9d9b76f7-d2df-4a17-b9c0-5d7a3bccbfc6",
   "metadata": {},
   "source": [
    "## Change the list items:"
   ]
  },
  {
   "cell_type": "code",
   "execution_count": 319,
   "id": "c186415c-5e67-4c66-9d67-74f02a881705",
   "metadata": {},
   "outputs": [],
   "source": [
    "# To change the value of a specific item, refer to the index number."
   ]
  },
  {
   "cell_type": "code",
   "execution_count": 320,
   "id": "03cf4ccd-7073-4a32-ac91-6d3f8efad7b5",
   "metadata": {},
   "outputs": [
    {
     "data": {
      "text/plain": [
       "['car', 'bike', 'cycle']"
      ]
     },
     "execution_count": 320,
     "metadata": {},
     "output_type": "execute_result"
    }
   ],
   "source": [
    "y = [ 'car', 'bike', 'van' ]\n",
    "y[2] = 'cycle'\n",
    "\n",
    "y"
   ]
  },
  {
   "cell_type": "code",
   "execution_count": 321,
   "id": "863854b3-4eba-4f96-849e-b0fed8c0db39",
   "metadata": {},
   "outputs": [],
   "source": [
    "# To change the value of items within a specific range, define a list with the new values\n",
    "# and refer to the range of index numbers where you want to insert the new values."
   ]
  },
  {
   "cell_type": "code",
   "execution_count": 322,
   "id": "87759075-d40e-4278-89a5-926d10ce7854",
   "metadata": {},
   "outputs": [],
   "source": [
    "# The length of the list will change when the number of items inserted does not match the number of items replaced."
   ]
  },
  {
   "cell_type": "code",
   "execution_count": 323,
   "id": "4544b957-1415-4569-b400-bd2837f94b9a",
   "metadata": {},
   "outputs": [
    {
     "name": "stdout",
     "output_type": "stream",
     "text": [
      "['apple', 'watermelon']\n"
     ]
    }
   ],
   "source": [
    "thislist = [\"apple\", \"banana\", \"cherry\"]\n",
    "thislist[1:3] = [\"watermelon\"]\n",
    "print(thislist)"
   ]
  },
  {
   "cell_type": "markdown",
   "id": "943b576a-00bc-4864-b73f-28be257adce0",
   "metadata": {},
   "source": [
    "## Add list items:"
   ]
  },
  {
   "cell_type": "code",
   "execution_count": 324,
   "id": "aa2bfecb-3c64-47fa-a639-7732a02ab45a",
   "metadata": {},
   "outputs": [],
   "source": [
    "# To add an item to the end of the list, use the append() method."
   ]
  },
  {
   "cell_type": "code",
   "execution_count": 325,
   "id": "7520433c-e6f6-41a3-b16a-10648d232742",
   "metadata": {},
   "outputs": [
    {
     "data": {
      "text/plain": [
       "['pen', 'pencil', 'scale', 'eraser']"
      ]
     },
     "execution_count": 325,
     "metadata": {},
     "output_type": "execute_result"
    }
   ],
   "source": [
    "z = ['pen', 'pencil', 'scale']\n",
    "z.append('eraser')\n",
    "z"
   ]
  },
  {
   "cell_type": "code",
   "execution_count": 326,
   "id": "2a78e4ec-9b32-4a7f-b3f7-e57e63293389",
   "metadata": {},
   "outputs": [],
   "source": [
    "# To insert a new list item, without replacing any of the existing values, we can use the insert() method.\n",
    "\n",
    "# The insert() method inserts an item at the specified index"
   ]
  },
  {
   "cell_type": "code",
   "execution_count": 327,
   "id": "2db9c139-a47f-44c9-9e37-169ac9b1478f",
   "metadata": {},
   "outputs": [
    {
     "data": {
      "text/plain": [
       "['pen', 'pencil', 'sharpner', 'scale', 'eraser']"
      ]
     },
     "execution_count": 327,
     "metadata": {},
     "output_type": "execute_result"
    }
   ],
   "source": [
    "z.insert(2, 'sharpner')\n",
    "z"
   ]
  },
  {
   "cell_type": "code",
   "execution_count": 328,
   "id": "0ad8f709-6619-4975-8d47-4d8194f671ca",
   "metadata": {},
   "outputs": [],
   "source": [
    "# To append elements from another list to the current list, use the extend() method.\n",
    "# The elements will be added to the end of the list.\n",
    "# The extend() method does not have to append lists, you can add any iterable object (tuples, sets, dictionaries etc.)"
   ]
  },
  {
   "cell_type": "code",
   "execution_count": 329,
   "id": "99b5f700-74e1-4a94-89cc-c743358414f7",
   "metadata": {},
   "outputs": [
    {
     "data": {
      "text/plain": [
       "['car', 'bike', 'cycle', 'cat', 'dog', 'rabbit', 'cow', 'goat']"
      ]
     },
     "execution_count": 329,
     "metadata": {},
     "output_type": "execute_result"
    }
   ],
   "source": [
    "y.extend(x)\n",
    "y"
   ]
  },
  {
   "cell_type": "markdown",
   "id": "a57b7c40-30c3-4815-ad18-37ae5b5601d7",
   "metadata": {},
   "source": [
    "## Remove the list items:"
   ]
  },
  {
   "cell_type": "code",
   "execution_count": 330,
   "id": "03504520-284e-4b69-9085-6abb13a5d473",
   "metadata": {},
   "outputs": [],
   "source": [
    "# The remove() method removes the specified item."
   ]
  },
  {
   "cell_type": "code",
   "execution_count": 331,
   "id": "fb5d5273-d6d6-442c-b7c3-996a364fa3f7",
   "metadata": {},
   "outputs": [
    {
     "data": {
      "text/plain": [
       "['cat', 'dog', 'rabbit', 'cow', 'goat']"
      ]
     },
     "execution_count": 331,
     "metadata": {},
     "output_type": "execute_result"
    }
   ],
   "source": [
    "x"
   ]
  },
  {
   "cell_type": "code",
   "execution_count": 332,
   "id": "4214e203-b540-4342-b9c5-b2d2ef11564a",
   "metadata": {},
   "outputs": [
    {
     "data": {
      "text/plain": [
       "['cat', 'dog', 'cow', 'goat']"
      ]
     },
     "execution_count": 332,
     "metadata": {},
     "output_type": "execute_result"
    }
   ],
   "source": [
    "x.remove('rabbit')\n",
    "x"
   ]
  },
  {
   "cell_type": "code",
   "execution_count": 333,
   "id": "d26a9e5a-038d-4188-acde-ac934fee0219",
   "metadata": {},
   "outputs": [],
   "source": [
    "# If there are more than one item with the specified value, the remove() method removes the first occurrence."
   ]
  },
  {
   "cell_type": "code",
   "execution_count": 334,
   "id": "edc0ef33-d09c-4529-b4da-2d1e705e91cb",
   "metadata": {},
   "outputs": [
    {
     "data": {
      "text/plain": [
       "['sad', 'moody', 'fear', 'happy']"
      ]
     },
     "execution_count": 334,
     "metadata": {},
     "output_type": "execute_result"
    }
   ],
   "source": [
    "new = ['happy', 'sad', 'moody', 'fear', 'happy']\n",
    "new.remove('happy')\n",
    "new"
   ]
  },
  {
   "cell_type": "code",
   "execution_count": 335,
   "id": "7356b9a7-b978-43d7-aed8-4070ffea9236",
   "metadata": {},
   "outputs": [],
   "source": [
    "# The pop() method removes the specified index."
   ]
  },
  {
   "cell_type": "code",
   "execution_count": 336,
   "id": "b736ab6c-3949-48dd-9a1e-5ad251f4ab1c",
   "metadata": {},
   "outputs": [
    {
     "data": {
      "text/plain": [
       "['sad', 'fear', 'happy']"
      ]
     },
     "execution_count": 336,
     "metadata": {},
     "output_type": "execute_result"
    }
   ],
   "source": [
    "new.pop(1)\n",
    "new"
   ]
  },
  {
   "cell_type": "code",
   "execution_count": 337,
   "id": "ea9c57cd-939e-4eef-ae5b-4c44567caf4d",
   "metadata": {},
   "outputs": [],
   "source": [
    "# If you do not specify the index, the pop() method removes the last item."
   ]
  },
  {
   "cell_type": "code",
   "execution_count": 338,
   "id": "fe72e056-d5d7-49db-ac52-c99a4ba4b722",
   "metadata": {},
   "outputs": [
    {
     "data": {
      "text/plain": [
       "['sad', 'fear']"
      ]
     },
     "execution_count": 338,
     "metadata": {},
     "output_type": "execute_result"
    }
   ],
   "source": [
    "new.pop()\n",
    "new"
   ]
  },
  {
   "cell_type": "code",
   "execution_count": 339,
   "id": "2b5f5799-7eb9-4a27-bb2c-dacc458f05a7",
   "metadata": {},
   "outputs": [],
   "source": [
    "# The del keyword also removes the specified index.\n",
    "\n",
    "# The del keyword can also delete the list completely."
   ]
  },
  {
   "cell_type": "code",
   "execution_count": 340,
   "id": "668e4ed8-a7db-485c-b587-996af88f972a",
   "metadata": {},
   "outputs": [
    {
     "data": {
      "text/plain": [
       "['apple', 'watermelon']"
      ]
     },
     "execution_count": 340,
     "metadata": {},
     "output_type": "execute_result"
    }
   ],
   "source": [
    "thislist\n"
   ]
  },
  {
   "cell_type": "code",
   "execution_count": 341,
   "id": "297a582e-8fe5-4b72-8fdb-4704cda07b8f",
   "metadata": {},
   "outputs": [
    {
     "data": {
      "text/plain": [
       "['watermelon']"
      ]
     },
     "execution_count": 341,
     "metadata": {},
     "output_type": "execute_result"
    }
   ],
   "source": [
    "del thislist[0]\n",
    "thislist"
   ]
  },
  {
   "cell_type": "code",
   "execution_count": 342,
   "id": "83f0c84c-cad0-469c-a366-00491befe769",
   "metadata": {},
   "outputs": [],
   "source": [
    "del thislist"
   ]
  },
  {
   "cell_type": "code",
   "execution_count": 343,
   "id": "e63de6c1-3db7-4510-bfc4-868d65e46cbe",
   "metadata": {},
   "outputs": [
    {
     "ename": "NameError",
     "evalue": "name 'thislist' is not defined",
     "output_type": "error",
     "traceback": [
      "\u001b[1;31m---------------------------------------------------------------------------\u001b[0m",
      "\u001b[1;31mNameError\u001b[0m                                 Traceback (most recent call last)",
      "Cell \u001b[1;32mIn[343], line 1\u001b[0m\n\u001b[1;32m----> 1\u001b[0m thislist\n",
      "\u001b[1;31mNameError\u001b[0m: name 'thislist' is not defined"
     ]
    }
   ],
   "source": [
    "thislist  # it will get error, because the 'thislist' list is already deleted"
   ]
  },
  {
   "cell_type": "code",
   "execution_count": 344,
   "id": "c6e23537-ebb7-495f-a418-21b4a0ed23d5",
   "metadata": {},
   "outputs": [],
   "source": [
    "# The clear() method empties the list.\n",
    "\n",
    "# The list still remains, but it has no content."
   ]
  },
  {
   "cell_type": "code",
   "execution_count": 345,
   "id": "98bb0e86-0a5d-442d-ada0-8b42d88842da",
   "metadata": {},
   "outputs": [
    {
     "name": "stdout",
     "output_type": "stream",
     "text": [
      "['pen', 'pencil', 'sharpner', 'scale', 'eraser']\n"
     ]
    },
    {
     "data": {
      "text/plain": [
       "[]"
      ]
     },
     "execution_count": 345,
     "metadata": {},
     "output_type": "execute_result"
    }
   ],
   "source": [
    "print(z)\n",
    "z.clear()\n",
    "z"
   ]
  },
  {
   "cell_type": "markdown",
   "id": "93a78d82-afe3-4e5c-a146-615f03da627c",
   "metadata": {},
   "source": [
    "## Loops in List:"
   ]
  },
  {
   "cell_type": "code",
   "execution_count": 346,
   "id": "683fb256-f69b-4458-abe8-a40b3035f191",
   "metadata": {},
   "outputs": [],
   "source": [
    "# You can loop through the list items by using a for loop."
   ]
  },
  {
   "cell_type": "code",
   "execution_count": 347,
   "id": "e06eab2c-6f77-413e-9588-820b44fd9249",
   "metadata": {},
   "outputs": [
    {
     "name": "stdout",
     "output_type": "stream",
     "text": [
      "Sweet\n",
      "Salty\n",
      "Sour\n",
      "Bitter\n",
      "Pungent\n",
      "Astringent\n"
     ]
    }
   ],
   "source": [
    "tastes = ['Sweet', 'Salty', 'Sour', 'Bitter', 'Pungent', 'Astringent']\n",
    "for item in tastes:\n",
    "    print (item)"
   ]
  },
  {
   "cell_type": "code",
   "execution_count": 348,
   "id": "6e19aa7a-0a27-4a7d-bde7-5ad95376575d",
   "metadata": {},
   "outputs": [],
   "source": [
    "# You can also loop through the list items by referring to their index number.\n",
    "# Use the range() and len() functions to create a suitable iterable."
   ]
  },
  {
   "cell_type": "code",
   "execution_count": 349,
   "id": "ee191c00-1325-46b9-a0e6-03aa11d4538d",
   "metadata": {},
   "outputs": [
    {
     "name": "stdout",
     "output_type": "stream",
     "text": [
      "Sweet\n",
      "Salty\n",
      "Sour\n",
      "Bitter\n",
      "Pungent\n",
      "Astringent\n"
     ]
    }
   ],
   "source": [
    "for item in range (len(tastes)):\n",
    "    print (tastes[item])"
   ]
  },
  {
   "cell_type": "code",
   "execution_count": 350,
   "id": "c7387795-869c-472a-8ef3-53ce4957fbe2",
   "metadata": {},
   "outputs": [],
   "source": [
    "# You can loop through the list items by using the while loop.\n",
    "\n",
    "# Use the len() function to determine the length of the list, then start at 0 \n",
    "# and loop your way through the list items by referring to their indexes."
   ]
  },
  {
   "cell_type": "code",
   "execution_count": 351,
   "id": "198262ae-95fc-4a79-a824-d165d6421c7a",
   "metadata": {},
   "outputs": [
    {
     "name": "stdout",
     "output_type": "stream",
     "text": [
      "Sweet\n",
      "Salty\n",
      "Sour\n",
      "Bitter\n",
      "Pungent\n",
      "Astringent\n"
     ]
    }
   ],
   "source": [
    "i = 0\n",
    "while i < (len(tastes)):\n",
    "    print(tastes[i])\n",
    "    i = i + 1         # Remember to increase the index by 1 after each iteration."
   ]
  },
  {
   "cell_type": "markdown",
   "id": "5d634400-d041-4c82-abb2-352e5e236b61",
   "metadata": {},
   "source": [
    "## List Comprehension:"
   ]
  },
  {
   "cell_type": "code",
   "execution_count": 352,
   "id": "00acea19-d3b7-4a07-b157-cff3faeb8918",
   "metadata": {},
   "outputs": [],
   "source": [
    "# List comprehension offers a shorter syntax when you want to create a new list based on the values of an existing list."
   ]
  },
  {
   "cell_type": "code",
   "execution_count": 353,
   "id": "e16f761c-f8ac-45eb-9e7d-95a1d84da183",
   "metadata": {},
   "outputs": [
    {
     "data": {
      "text/plain": [
       "['Sweet', 'Salty', 'Sour', 'Bitter', 'Pungent', 'Astringent']"
      ]
     },
     "execution_count": 353,
     "metadata": {},
     "output_type": "execute_result"
    }
   ],
   "source": [
    "tastes"
   ]
  },
  {
   "cell_type": "code",
   "execution_count": 354,
   "id": "40346c06-c175-45ea-9321-7ea5276d7556",
   "metadata": {},
   "outputs": [
    {
     "name": "stdout",
     "output_type": "stream",
     "text": [
      "['Sweet', 'Salty', 'Sour', 'Bitter', 'Pungent', 'Astringent']\n",
      "['Pungent', 'Astringent']\n"
     ]
    }
   ],
   "source": [
    "print(tastes)\n",
    "newlist = []              # initiate a new empty list\n",
    "\n",
    "for i in tastes:\n",
    "    if \"g\" in i:\n",
    "        newlist.append(i)\n",
    "\n",
    "print(newlist)"
   ]
  },
  {
   "cell_type": "code",
   "execution_count": 355,
   "id": "707edd5e-8c75-4e16-bad0-5656afd1e24e",
   "metadata": {},
   "outputs": [],
   "source": [
    "# With list comprehension you can do all that with only one line of code.\n",
    "\n",
    "# The return value is a new list, leaving the old list unchanged.\n",
    "# The condition is optional and can be omitted"
   ]
  },
  {
   "cell_type": "code",
   "execution_count": 356,
   "id": "f3059a7f-a77d-40b0-8aaf-3c48d2eabdbd",
   "metadata": {},
   "outputs": [
    {
     "name": "stdout",
     "output_type": "stream",
     "text": [
      "['Pungent', 'Astringent']\n"
     ]
    }
   ],
   "source": [
    "newlist = [ i for i in tastes if \"g\" in i]         # newlist = [expression for item in iterable if condition == True]\n",
    "print(newlist)"
   ]
  },
  {
   "cell_type": "code",
   "execution_count": 357,
   "id": "546f32ac-c750-4b0f-b046-65153323e941",
   "metadata": {},
   "outputs": [],
   "source": [
    "# Set the values in the new list to upper case"
   ]
  },
  {
   "cell_type": "code",
   "execution_count": 358,
   "id": "f4d5f606-4e12-497c-a497-63c0db3e67c8",
   "metadata": {},
   "outputs": [
    {
     "data": {
      "text/plain": [
       "['SWEET', 'SALTY', 'SOUR', 'BITTER', 'PUNGENT', 'ASTRINGENT']"
      ]
     },
     "execution_count": 358,
     "metadata": {},
     "output_type": "execute_result"
    }
   ],
   "source": [
    "newlist = [ i.upper() for i in tastes]\n",
    "newlist"
   ]
  },
  {
   "cell_type": "code",
   "execution_count": 359,
   "id": "3eb02948-9f24-4dcd-b21a-b2d1744a756a",
   "metadata": {},
   "outputs": [
    {
     "data": {
      "text/plain": [
       "[' Taste', ' Taste', ' Taste', ' Taste', ' Taste', ' Taste']"
      ]
     },
     "execution_count": 359,
     "metadata": {},
     "output_type": "execute_result"
    }
   ],
   "source": [
    "# You can set the outcome to whatever you like\n",
    "\n",
    "newlist = [' Taste'  for i in tastes]\n",
    "newlist"
   ]
  },
  {
   "cell_type": "markdown",
   "id": "bc70b77b-b5a2-4fd1-9db3-f77a025dd8ee",
   "metadata": {},
   "source": [
    "## Sort List:"
   ]
  },
  {
   "cell_type": "code",
   "execution_count": 360,
   "id": "6ab4dacb-f628-4308-9e27-433297010349",
   "metadata": {},
   "outputs": [],
   "source": [
    "# List objects have a sort() method that will sort the list alphanumerically, ascending, by default"
   ]
  },
  {
   "cell_type": "code",
   "execution_count": 361,
   "id": "cb3df341-5396-4701-ac1b-7ef36f4b5261",
   "metadata": {},
   "outputs": [
    {
     "data": {
      "text/plain": [
       "['Astringent', 'Bitter', 'Pungent', 'Salty', 'Sour', 'Sweet']"
      ]
     },
     "execution_count": 361,
     "metadata": {},
     "output_type": "execute_result"
    }
   ],
   "source": [
    "tastes.sort()\n",
    "tastes"
   ]
  },
  {
   "cell_type": "code",
   "execution_count": 362,
   "id": "f2228781-b9ed-48ff-bf59-8bb0ead8b2bf",
   "metadata": {},
   "outputs": [],
   "source": [
    "# To sort descending, use the keyword argument reverse = True"
   ]
  },
  {
   "cell_type": "code",
   "execution_count": 363,
   "id": "21c49143-0a66-4f32-90a4-553f1677e2da",
   "metadata": {},
   "outputs": [
    {
     "data": {
      "text/plain": [
       "['Sweet', 'Sour', 'Salty', 'Pungent', 'Bitter', 'Astringent']"
      ]
     },
     "execution_count": 363,
     "metadata": {},
     "output_type": "execute_result"
    }
   ],
   "source": [
    "tastes.sort(reverse = True)\n",
    "tastes"
   ]
  },
  {
   "cell_type": "code",
   "execution_count": 364,
   "id": "3e9b85ca-96da-4e6d-bc7b-e1f4357f5915",
   "metadata": {},
   "outputs": [],
   "source": [
    "# You can also customize your own function by using the keyword argument key = function.\n",
    "# The function will return a number that will be used to sort the list (the lowest number first)"
   ]
  },
  {
   "cell_type": "code",
   "execution_count": 365,
   "id": "57eaf656-ea0f-479a-becd-6d18e9b28787",
   "metadata": {},
   "outputs": [
    {
     "name": "stdout",
     "output_type": "stream",
     "text": [
      "[50, 65, 23, 82, 100]\n"
     ]
    }
   ],
   "source": [
    "def myfunc(n):\n",
    "  return abs(n - 50)             # abs() function returns the absolute value of the specified function\n",
    "\n",
    "thislist = [100, 50, 65, 82, 23]\n",
    "thislist.sort(key = myfunc)\n",
    "print(thislist)"
   ]
  },
  {
   "cell_type": "code",
   "execution_count": 366,
   "id": "a2d9ad7e-2528-4ce0-9ee9-094ed0ff11da",
   "metadata": {},
   "outputs": [],
   "source": [
    "# By default the sort() method is case sensitive, resulting in all capital letters being sorted before lower case letters"
   ]
  },
  {
   "cell_type": "code",
   "execution_count": 367,
   "id": "29fe091c-d7d3-4623-834b-e203aba43c75",
   "metadata": {},
   "outputs": [
    {
     "name": "stdout",
     "output_type": "stream",
     "text": [
      "['Kiwi', 'Orange', 'banana', 'cherry']\n"
     ]
    }
   ],
   "source": [
    "thislist = [\"banana\", \"Orange\", \"Kiwi\", \"cherry\"]\n",
    "thislist.sort()\n",
    "print(thislist)"
   ]
  },
  {
   "cell_type": "code",
   "execution_count": 368,
   "id": "326f3d86-530b-4f14-9155-1db1cf088797",
   "metadata": {},
   "outputs": [],
   "source": [
    "# if you want a case-insensitive sort function, use str.lower as a key function"
   ]
  },
  {
   "cell_type": "code",
   "execution_count": 369,
   "id": "a033b4c9-0ee1-4070-869e-2ff0078e553b",
   "metadata": {},
   "outputs": [
    {
     "name": "stdout",
     "output_type": "stream",
     "text": [
      "['banana', 'cherry', 'Kiwi', 'Orange']\n"
     ]
    }
   ],
   "source": [
    "thislist = [\"banana\", \"Orange\", \"Kiwi\", \"cherry\"]\n",
    "thislist.sort(key = str.lower)\n",
    "print(thislist)"
   ]
  },
  {
   "cell_type": "code",
   "execution_count": 370,
   "id": "8747072c-5303-453e-b981-33b4e7f9be7d",
   "metadata": {},
   "outputs": [],
   "source": [
    "# The reverse() method reverses the current sorting order of the elements"
   ]
  },
  {
   "cell_type": "code",
   "execution_count": 371,
   "id": "45ac1159-adb6-4ba3-9dd4-674c76d427b8",
   "metadata": {},
   "outputs": [
    {
     "name": "stdout",
     "output_type": "stream",
     "text": [
      "['cherry', 'Kiwi', 'Orange', 'banana']\n"
     ]
    }
   ],
   "source": [
    "thislist = [\"banana\", \"Orange\", \"Kiwi\", \"cherry\"]\n",
    "thislist.reverse()\n",
    "print(thislist)"
   ]
  },
  {
   "cell_type": "code",
   "execution_count": 372,
   "id": "27839d4a-bd01-4146-a17c-4d03a3ba8b1f",
   "metadata": {},
   "outputs": [],
   "source": [
    "# The count() method returns the number of elements with the specified value"
   ]
  },
  {
   "cell_type": "code",
   "execution_count": 373,
   "id": "86c0934c-bcd7-4848-9545-beac15bd40d1",
   "metadata": {},
   "outputs": [
    {
     "data": {
      "text/plain": [
       "1"
      ]
     },
     "execution_count": 373,
     "metadata": {},
     "output_type": "execute_result"
    }
   ],
   "source": [
    "x = thislist.count('Kiwi')\n",
    "x"
   ]
  },
  {
   "cell_type": "markdown",
   "id": "75c01fa2-58ea-4743-a195-ae34fcbd328f",
   "metadata": {},
   "source": [
    "## Copy List:"
   ]
  },
  {
   "cell_type": "code",
   "execution_count": 374,
   "id": "e71cf693-da8c-437c-b787-275d4d62f6d6",
   "metadata": {},
   "outputs": [],
   "source": [
    "# Make a copy of a list with the copy() method."
   ]
  },
  {
   "cell_type": "code",
   "execution_count": 375,
   "id": "0e39218e-5fcd-4d92-b94c-ab708aec8e4d",
   "metadata": {},
   "outputs": [
    {
     "name": "stdout",
     "output_type": "stream",
     "text": [
      "['Sweet', 'Sour', 'Salty', 'Pungent', 'Bitter', 'Astringent']\n"
     ]
    },
    {
     "data": {
      "text/plain": [
       "['Sweet', 'Sour', 'Salty', 'Pungent', 'Bitter', 'Astringent']"
      ]
     },
     "execution_count": 375,
     "metadata": {},
     "output_type": "execute_result"
    }
   ],
   "source": [
    "print(tastes)\n",
    "tastes_1 =  tastes.copy()\n",
    "tastes_1"
   ]
  },
  {
   "cell_type": "code",
   "execution_count": 376,
   "id": "d76e3fd0-d82d-4997-8cad-190e8f1e9a2a",
   "metadata": {},
   "outputs": [],
   "source": [
    "# Another way to make a copy is to use the built-in method list()."
   ]
  },
  {
   "cell_type": "code",
   "execution_count": 377,
   "id": "028a8b3d-70c3-45c1-bb12-21f0b189166f",
   "metadata": {},
   "outputs": [
    {
     "data": {
      "text/plain": [
       "['Sweet', 'Sour', 'Salty', 'Pungent', 'Bitter', 'Astringent']"
      ]
     },
     "execution_count": 377,
     "metadata": {},
     "output_type": "execute_result"
    }
   ],
   "source": [
    "tastes_2 = list(tastes)\n",
    "tastes_2"
   ]
  },
  {
   "cell_type": "markdown",
   "id": "d8b4b763-76a3-4bb0-bf6e-69671e84cab4",
   "metadata": {},
   "source": [
    "## Join List:"
   ]
  },
  {
   "cell_type": "code",
   "execution_count": 378,
   "id": "bf540114-16dd-4c76-8e45-d5f8a4ba0388",
   "metadata": {},
   "outputs": [],
   "source": [
    "# There are several ways to join, or concatenate, two or more lists in Python.\n",
    "\n",
    "# Addition & Multiplication - Possible\n",
    "# Subtraction & Division - Not Possible\n",
    "\n",
    "# One of the easiest ways are by using the + operator."
   ]
  },
  {
   "cell_type": "code",
   "execution_count": 379,
   "id": "3fa34b42-6e3f-4d4f-947e-6fb714ee1313",
   "metadata": {},
   "outputs": [
    {
     "name": "stdout",
     "output_type": "stream",
     "text": [
      "['a', 'b', 'c', 1, 2, 3]\n"
     ]
    }
   ],
   "source": [
    "list1 = [\"a\", \"b\", \"c\"]\n",
    "list2 = [1, 2, 3]\n",
    "\n",
    "list3 = list1 + list2\n",
    "print(list3)"
   ]
  },
  {
   "cell_type": "code",
   "execution_count": 380,
   "id": "faa3580d-3028-4956-b0be-dc733253cfb1",
   "metadata": {},
   "outputs": [],
   "source": [
    "# Another way to join two lists is by appending all the items from list2 into list1, one by one."
   ]
  },
  {
   "cell_type": "code",
   "execution_count": 381,
   "id": "df37b50f-8c06-40ff-92d1-73fbfd1cb01f",
   "metadata": {},
   "outputs": [
    {
     "name": "stdout",
     "output_type": "stream",
     "text": [
      "['a', 'b', 'c', 1, 2, 3]\n"
     ]
    }
   ],
   "source": [
    "list1 = [\"a\", \"b\" , \"c\"]\n",
    "list2 = [1, 2, 3]\n",
    "\n",
    "for x in list2:\n",
    "  list1.append(x)\n",
    "\n",
    "print(list1)"
   ]
  },
  {
   "cell_type": "code",
   "execution_count": 382,
   "id": "6419d447-c941-4519-be33-456dfb65aec4",
   "metadata": {},
   "outputs": [],
   "source": [
    "# you can use the extend() method, where the purpose is to add elements from one list to another list"
   ]
  },
  {
   "cell_type": "code",
   "execution_count": 383,
   "id": "ccce4f48-9663-4513-bcb2-88b23622d493",
   "metadata": {},
   "outputs": [
    {
     "name": "stdout",
     "output_type": "stream",
     "text": [
      "['a', 'b', 'c', 1, 2, 3]\n"
     ]
    }
   ],
   "source": [
    "list1 = [\"a\", \"b\" , \"c\"]\n",
    "list2 = [1, 2, 3]\n",
    "\n",
    "list1.extend(list2)\n",
    "print(list1)"
   ]
  },
  {
   "cell_type": "code",
   "execution_count": null,
   "id": "18349415-ac06-4010-9cbb-62881cb7cb9f",
   "metadata": {},
   "outputs": [],
   "source": []
  },
  {
   "cell_type": "markdown",
   "id": "8bde47d3-3ced-423a-904b-a1ca47757069",
   "metadata": {},
   "source": [
    "### TUPLE:"
   ]
  },
  {
   "cell_type": "code",
   "execution_count": 384,
   "id": "6bf6779d-74d2-4eee-aa5a-8890e94a2625",
   "metadata": {},
   "outputs": [],
   "source": [
    "# A tuple is a collection which is ordered and unchangeable(immutable).\n",
    "# Tuples are an immutable sequence that can contain elements of any data type.\n",
    "# Tuples are written with round brackets\n",
    "# tuple() - this function that transforms input into tuples"
   ]
  },
  {
   "cell_type": "code",
   "execution_count": 385,
   "id": "fc6f4360-35fd-4ced-9863-c41399991f06",
   "metadata": {},
   "outputs": [
    {
     "name": "stdout",
     "output_type": "stream",
     "text": [
      "<class 'tuple'>\n"
     ]
    }
   ],
   "source": [
    "family = ('father', 'mother', 'son', 'daughter')\n",
    "print (type(family))"
   ]
  },
  {
   "cell_type": "code",
   "execution_count": 386,
   "id": "5d116dcf-54d5-413e-903a-e07cdc3f74ed",
   "metadata": {},
   "outputs": [],
   "source": [
    "# Tuple items are ordered, unchangeable, and allow duplicate values.\n",
    "\n",
    "# Tuple items are indexed, the first item has index [0], the second item has index [1] etc."
   ]
  },
  {
   "cell_type": "code",
   "execution_count": 387,
   "id": "223f6a76-dd21-46a0-b35b-50cf6b966c72",
   "metadata": {},
   "outputs": [],
   "source": [
    "# ordered - When we say that tuples are ordered, it means that the items have a defined order, and that order will not change.\n",
    "\n",
    "# unchangeable - Tuples are unchangeable, meaning that we cannot change, add or remove items after the tuple has been created."
   ]
  },
  {
   "cell_type": "code",
   "execution_count": 388,
   "id": "391bd71f-da67-4ecb-a049-9bf525a27d51",
   "metadata": {},
   "outputs": [],
   "source": [
    "# To determine how many items a tuple has, use the len() function."
   ]
  },
  {
   "cell_type": "code",
   "execution_count": 389,
   "id": "c351d2b3-7f6d-4bc1-b998-988d622002ca",
   "metadata": {},
   "outputs": [
    {
     "name": "stdout",
     "output_type": "stream",
     "text": [
      "4\n"
     ]
    }
   ],
   "source": [
    "print (len(family))"
   ]
  },
  {
   "cell_type": "code",
   "execution_count": 390,
   "id": "9bf9c525-4197-4eaa-827d-aed564668462",
   "metadata": {},
   "outputs": [],
   "source": [
    "# To create a tuple with only one item, you have to add a comma after the item, otherwise Python will not recognize it as a tuple."
   ]
  },
  {
   "cell_type": "code",
   "execution_count": 391,
   "id": "a67c5064-840c-4d5f-b3af-2f58834816e3",
   "metadata": {},
   "outputs": [
    {
     "name": "stdout",
     "output_type": "stream",
     "text": [
      "<class 'tuple'>\n",
      "<class 'str'>\n"
     ]
    }
   ],
   "source": [
    "thistuple = (\"apple\",)\n",
    "print(type(thistuple))\n",
    "\n",
    "#NOT a tuple\n",
    "thistuple = (\"apple\")\n",
    "print(type(thistuple))"
   ]
  },
  {
   "cell_type": "code",
   "execution_count": 392,
   "id": "4d5731ac-99df-44ad-98db-c35a5a4edbbd",
   "metadata": {},
   "outputs": [],
   "source": [
    "# Tuple items can be of any data type.\n",
    "# A tuple can contain different data types"
   ]
  },
  {
   "cell_type": "markdown",
   "id": "6da1f22f-6903-4556-a99d-78414e65b89d",
   "metadata": {},
   "source": [
    "## Access Tuple items:"
   ]
  },
  {
   "cell_type": "code",
   "execution_count": 393,
   "id": "6cc540af-0ccf-4a22-8239-ab6ea959a1e4",
   "metadata": {},
   "outputs": [],
   "source": [
    "# You can access tuple items by referring to the index number, inside square brackets."
   ]
  },
  {
   "cell_type": "code",
   "execution_count": 394,
   "id": "457cb404-886d-4535-ae51-ad92e4ce3aa3",
   "metadata": {},
   "outputs": [
    {
     "name": "stdout",
     "output_type": "stream",
     "text": [
      "('father', 'mother', 'son', 'daughter')\n"
     ]
    }
   ],
   "source": [
    "print(family)"
   ]
  },
  {
   "cell_type": "code",
   "execution_count": 395,
   "id": "815ac7d3-aa40-4a33-8855-cee1db5847b9",
   "metadata": {},
   "outputs": [
    {
     "name": "stdout",
     "output_type": "stream",
     "text": [
      "son\n"
     ]
    }
   ],
   "source": [
    "print(family[2])"
   ]
  },
  {
   "cell_type": "code",
   "execution_count": 396,
   "id": "7cf87836-1730-4d71-99b9-0032a6fe2f5f",
   "metadata": {},
   "outputs": [],
   "source": [
    "# Negative indexing means start from the end.\n",
    "\n",
    "# -1 refers to the last item, -2 refers to the second last item etc."
   ]
  },
  {
   "cell_type": "code",
   "execution_count": 397,
   "id": "116ef86e-acbb-4717-8500-e56033bedeed",
   "metadata": {},
   "outputs": [
    {
     "name": "stdout",
     "output_type": "stream",
     "text": [
      "mother\n"
     ]
    }
   ],
   "source": [
    "print (family[-3])"
   ]
  },
  {
   "cell_type": "code",
   "execution_count": 398,
   "id": "014054e3-8c97-4b90-a33f-324aaadde252",
   "metadata": {},
   "outputs": [],
   "source": [
    "# Positive index:\n",
    "\n",
    "# You can specify a range of indexes by specifying where to start and where to end the range.\n",
    "# When specifying a range, the return value will be a new tuple with the specified items.\n",
    "\n",
    "# Negative index:\n",
    "\n",
    "# Specify negative indexes if you want to start the search from the end of the tuple"
   ]
  },
  {
   "cell_type": "code",
   "execution_count": 399,
   "id": "e37db2a6-71df-4452-b6a8-3017bfb84d2d",
   "metadata": {},
   "outputs": [],
   "source": [
    "# To determine if a specified item is present in a tuple use the in keyword"
   ]
  },
  {
   "cell_type": "code",
   "execution_count": 400,
   "id": "ced2a9f3-3fbe-47e7-935d-2d97836d46de",
   "metadata": {},
   "outputs": [
    {
     "name": "stdout",
     "output_type": "stream",
     "text": [
      "yes, the item 'father' is in the tuple family\n"
     ]
    }
   ],
   "source": [
    "if \"father\" in family:\n",
    "    print (\"yes, the item 'father' is in the tuple family\")"
   ]
  },
  {
   "cell_type": "markdown",
   "id": "7a8c94b0-a057-494b-8d5d-cd968466896a",
   "metadata": {},
   "source": [
    "## Update Tuples:"
   ]
  },
  {
   "cell_type": "code",
   "execution_count": 401,
   "id": "d963a417-20d1-42e4-9d63-39dec29af817",
   "metadata": {},
   "outputs": [],
   "source": [
    "# Once a tuple is created, you cannot change its values. Tuples are unchangeable, or immutable as it also is called."
   ]
  },
  {
   "cell_type": "code",
   "execution_count": 402,
   "id": "f7951c73-9983-4bc8-9eb4-75788675081d",
   "metadata": {},
   "outputs": [],
   "source": [
    "# But there is a workaround. You can convert the tuple into a list, change the list, and convert the list back into a tuple."
   ]
  },
  {
   "cell_type": "code",
   "execution_count": 403,
   "id": "e0d7fad4-ed1f-4989-98ba-f327924dda3a",
   "metadata": {},
   "outputs": [
    {
     "name": "stdout",
     "output_type": "stream",
     "text": [
      "('father', 'mother', 'son', 'daughter')\n",
      "('father', 'mother', 'son', 'grand father')\n"
     ]
    }
   ],
   "source": [
    "print(family)\n",
    "\n",
    "family_1 = list(family)\n",
    "family_1[3] = \"grand father\"\n",
    "family = tuple(family_1)\n",
    "\n",
    "print (family)"
   ]
  },
  {
   "cell_type": "markdown",
   "id": "398a559b-7bb7-4866-af9b-b3794665d02e",
   "metadata": {},
   "source": [
    "## Add Tuple items:"
   ]
  },
  {
   "cell_type": "code",
   "execution_count": 404,
   "id": "24ccbaa8-1da6-44ed-9ea9-c6de2116ac9f",
   "metadata": {},
   "outputs": [],
   "source": [
    "# To add some items in tuples, you can convert it into a list, add your item(s), and convert it back into a tuple."
   ]
  },
  {
   "cell_type": "code",
   "execution_count": 405,
   "id": "5b9bb7f7-3c4c-4016-ba17-ef4db1f532d8",
   "metadata": {},
   "outputs": [],
   "source": [
    "# Add tuple to a tuple: You are allowed to add tuples to tuples, so if you want to add one item, (or many),\n",
    "# create a new tuple with the item(s), and add it to the existing tuple."
   ]
  },
  {
   "cell_type": "code",
   "execution_count": 406,
   "id": "ec6bb007-1fdf-42c2-bd18-3d6cc1292cf9",
   "metadata": {},
   "outputs": [
    {
     "name": "stdout",
     "output_type": "stream",
     "text": [
      "('father', 'mother', 'son', 'grand father')\n",
      "('father', 'mother', 'son', 'grand father', 'daughter')\n"
     ]
    }
   ],
   "source": [
    "print(family)\n",
    "\n",
    "x = ('daughter',)\n",
    "family += x\n",
    "\n",
    "print(family)"
   ]
  },
  {
   "cell_type": "markdown",
   "id": "8e1845ea-f865-4beb-9fa0-7f6eb55f3158",
   "metadata": {},
   "source": [
    "## Remove Tuple items:"
   ]
  },
  {
   "cell_type": "code",
   "execution_count": 407,
   "id": "641f230a-274c-4de6-91a4-a8a941c93684",
   "metadata": {},
   "outputs": [],
   "source": [
    "# You cannot remove items in a tuple. To remove some items in tuples, you can convert it into a list, remove the item(s), \n",
    "# and convert it back into a tuple."
   ]
  },
  {
   "cell_type": "code",
   "execution_count": 408,
   "id": "71a2d4a9-2583-4965-83eb-0d70e5704f8b",
   "metadata": {},
   "outputs": [],
   "source": [
    "# you can delete the tuple completely"
   ]
  },
  {
   "cell_type": "code",
   "execution_count": 409,
   "id": "8f9c6ebc-20d8-4448-a8b7-66e749d4b647",
   "metadata": {},
   "outputs": [
    {
     "name": "stdout",
     "output_type": "stream",
     "text": [
      "('father', 'mother', 'son', 'grand father', 'daughter')\n"
     ]
    },
    {
     "ename": "NameError",
     "evalue": "name 'family' is not defined",
     "output_type": "error",
     "traceback": [
      "\u001b[1;31m---------------------------------------------------------------------------\u001b[0m",
      "\u001b[1;31mNameError\u001b[0m                                 Traceback (most recent call last)",
      "Cell \u001b[1;32mIn[409], line 3\u001b[0m\n\u001b[0;32m      1\u001b[0m \u001b[38;5;28mprint\u001b[39m(family)\n\u001b[0;32m      2\u001b[0m \u001b[38;5;28;01mdel\u001b[39;00m family\n\u001b[1;32m----> 3\u001b[0m \u001b[38;5;28mprint\u001b[39m (family)\n",
      "\u001b[1;31mNameError\u001b[0m: name 'family' is not defined"
     ]
    }
   ],
   "source": [
    "print(family)\n",
    "del family\n",
    "print (family)   # #this will raise an error because the tuple no longer exists"
   ]
  },
  {
   "cell_type": "markdown",
   "id": "fecab386-fea5-48f0-bb96-9b511b950508",
   "metadata": {},
   "source": [
    "## Unpack the Tuple:"
   ]
  },
  {
   "cell_type": "code",
   "execution_count": 410,
   "id": "6fbbf0a5-fe4e-429e-869e-04ceb2b53cde",
   "metadata": {},
   "outputs": [],
   "source": [
    "# When we create a tuple, we normally assign values to it. This is called \"packing\" a tuple"
   ]
  },
  {
   "cell_type": "code",
   "execution_count": 411,
   "id": "cb8eb6ff-18fe-4cfd-a091-5b9280a4ac6a",
   "metadata": {},
   "outputs": [],
   "source": [
    "# In Python, we are also allowed to extract the values back into variables. This is called \"unpacking\""
   ]
  },
  {
   "cell_type": "code",
   "execution_count": 412,
   "id": "abae088d-ebef-4815-9190-c8bababa1fd2",
   "metadata": {},
   "outputs": [],
   "source": [
    "# The number of variables must match the number of values in the tuple, \n",
    "# if not, you must use an asterisk to collect the remaining values as a list."
   ]
  },
  {
   "cell_type": "code",
   "execution_count": 413,
   "id": "78f1a503-5826-4b82-b18e-665accfb4d73",
   "metadata": {},
   "outputs": [
    {
     "name": "stdout",
     "output_type": "stream",
     "text": [
      "['sad', 'fear']\n",
      "sad\n",
      "fear\n"
     ]
    }
   ],
   "source": [
    "print(new)\n",
    "\n",
    "(one, two) = new\n",
    "\n",
    "print(one)\n",
    "print(two)"
   ]
  },
  {
   "cell_type": "code",
   "execution_count": 414,
   "id": "3779913b-a443-47f2-9cea-49ecda72ed54",
   "metadata": {},
   "outputs": [],
   "source": [
    "# If the number of variables is less than the number of values, \n",
    "# you can add an * to the variable name and the values will be assigned to the variable as a list"
   ]
  },
  {
   "cell_type": "code",
   "execution_count": 415,
   "id": "482895a8-1c97-4bf3-959e-31ac7d74b884",
   "metadata": {},
   "outputs": [
    {
     "name": "stdout",
     "output_type": "stream",
     "text": [
      "happy\n",
      "sad\n",
      "['sorrow', 'anger', 'moody']\n"
     ]
    }
   ],
   "source": [
    "new = ('happy', 'sad', 'sorrow', 'anger', 'moody')\n",
    "(one, two, *three) = new\n",
    "\n",
    "print(one)\n",
    "print(two)\n",
    "print(three)"
   ]
  },
  {
   "cell_type": "code",
   "execution_count": 416,
   "id": "fac9c4a8-c024-4154-9f4c-b28ba0440d46",
   "metadata": {},
   "outputs": [],
   "source": [
    "# If the asterisk is added to another variable name than the last,\n",
    "# Python will assign values to the variable until the number of values left matches the number of variables left."
   ]
  },
  {
   "cell_type": "markdown",
   "id": "6df91c34-8b58-4fa4-b017-ba5cd3c7ecf2",
   "metadata": {},
   "source": [
    "## Loops in Tuples:"
   ]
  },
  {
   "cell_type": "code",
   "execution_count": 417,
   "id": "8e43dd15-b392-49fe-a72e-8432cbaa85e6",
   "metadata": {},
   "outputs": [],
   "source": [
    "# You can loop through the tuple items by using a for loop."
   ]
  },
  {
   "cell_type": "code",
   "execution_count": 418,
   "id": "7cdf65c8-f88b-4038-b153-b9c351e032f9",
   "metadata": {},
   "outputs": [
    {
     "name": "stdout",
     "output_type": "stream",
     "text": [
      "happy\n",
      "sad\n",
      "sorrow\n",
      "anger\n",
      "moody\n"
     ]
    }
   ],
   "source": [
    "for i in new:\n",
    "    print(i)"
   ]
  },
  {
   "cell_type": "code",
   "execution_count": 419,
   "id": "581129af-7a1a-4297-b71f-d8496f14fb21",
   "metadata": {},
   "outputs": [],
   "source": [
    "# You can also loop through the tuple items by referring to their index number.\n",
    "# Use the range() and len() functions to create a suitable iterable."
   ]
  },
  {
   "cell_type": "code",
   "execution_count": 420,
   "id": "174f1b65-bddb-456c-8940-d22a1e268faf",
   "metadata": {},
   "outputs": [
    {
     "name": "stdout",
     "output_type": "stream",
     "text": [
      "happy\n",
      "sad\n",
      "sorrow\n",
      "anger\n",
      "moody\n"
     ]
    }
   ],
   "source": [
    "for i in range(len(new)):\n",
    "    print(new[i])"
   ]
  },
  {
   "cell_type": "code",
   "execution_count": 421,
   "id": "97b8b8b5-5d32-460b-a3a1-21f5c948b740",
   "metadata": {},
   "outputs": [],
   "source": [
    "# You can loop through the tuple items by using a while loop."
   ]
  },
  {
   "cell_type": "code",
   "execution_count": 422,
   "id": "ad905ab6-b1fd-47c8-a6dc-91b0e9bb1661",
   "metadata": {},
   "outputs": [
    {
     "name": "stdout",
     "output_type": "stream",
     "text": [
      "happy\n",
      "sad\n",
      "sorrow\n",
      "anger\n",
      "moody\n"
     ]
    }
   ],
   "source": [
    "i = 0\n",
    "while i < (len(new)):\n",
    "    print(new[i])\n",
    "    i = i+1"
   ]
  },
  {
   "cell_type": "markdown",
   "id": "fd5f23df-4df8-4ba4-b486-06ad796b3dcc",
   "metadata": {},
   "source": [
    "## Join Tuples:"
   ]
  },
  {
   "cell_type": "code",
   "execution_count": 423,
   "id": "8a9081e0-9e77-46d6-9710-d784f517ad61",
   "metadata": {},
   "outputs": [],
   "source": [
    "# To join two or more tuples you can use the + operator"
   ]
  },
  {
   "cell_type": "code",
   "execution_count": 424,
   "id": "d72e30ac-22d8-4ea1-a47b-435a525a8db3",
   "metadata": {},
   "outputs": [
    {
     "name": "stdout",
     "output_type": "stream",
     "text": [
      "('a', 'b', 'c', 1, 2, 3)\n"
     ]
    }
   ],
   "source": [
    "tuple1 = (\"a\", \"b\" , \"c\")\n",
    "tuple2 = (1, 2, 3)\n",
    "\n",
    "tuple3 = tuple1 + tuple2\n",
    "print(tuple3)"
   ]
  },
  {
   "cell_type": "code",
   "execution_count": 425,
   "id": "0498f795-ad19-43cd-acfc-baa3d2b6eeb3",
   "metadata": {},
   "outputs": [],
   "source": [
    "# If you want to multiply the content of a tuple a given number of times, you can use the * operator"
   ]
  },
  {
   "cell_type": "code",
   "execution_count": 426,
   "id": "dbf30920-3514-4ca2-a2d8-d4a894cee88d",
   "metadata": {},
   "outputs": [
    {
     "name": "stdout",
     "output_type": "stream",
     "text": [
      "('happy', 'sad', 'sorrow', 'anger', 'moody')\n",
      "('happy', 'sad', 'sorrow', 'anger', 'moody', 'happy', 'sad', 'sorrow', 'anger', 'moody')\n"
     ]
    }
   ],
   "source": [
    "print(new)\n",
    "newTuple = new * 2\n",
    "\n",
    "print(newTuple)"
   ]
  },
  {
   "cell_type": "code",
   "execution_count": null,
   "id": "2fd28efb-fa06-4d5a-8a64-8581cdd9e5d6",
   "metadata": {},
   "outputs": [],
   "source": []
  },
  {
   "cell_type": "code",
   "execution_count": null,
   "id": "0f7409dd-46be-4079-a27a-ae346c217028",
   "metadata": {},
   "outputs": [],
   "source": []
  },
  {
   "cell_type": "code",
   "execution_count": null,
   "id": "aa7672fd-4104-4dc3-b68d-9b229200e044",
   "metadata": {},
   "outputs": [],
   "source": []
  }
 ],
 "metadata": {
  "kernelspec": {
   "display_name": "Python 3 (ipykernel)",
   "language": "python",
   "name": "python3"
  },
  "language_info": {
   "codemirror_mode": {
    "name": "ipython",
    "version": 3
   },
   "file_extension": ".py",
   "mimetype": "text/x-python",
   "name": "python",
   "nbconvert_exporter": "python",
   "pygments_lexer": "ipython3",
   "version": "3.11.7"
  }
 },
 "nbformat": 4,
 "nbformat_minor": 5
}
