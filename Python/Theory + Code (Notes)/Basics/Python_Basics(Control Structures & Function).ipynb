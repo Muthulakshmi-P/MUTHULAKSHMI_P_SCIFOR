{
 "cells": [
  {
   "cell_type": "markdown",
   "id": "cfe340fd-79a4-4fec-adb9-a410052ff8aa",
   "metadata": {},
   "source": [
    "NOTEBOOK 2:"
   ]
  },
  {
   "cell_type": "markdown",
   "id": "d867af6f-e33a-4c77-9b73-4b2ffdf59ae0",
   "metadata": {},
   "source": [
    "# CONTROL STRUCTURES:"
   ]
  },
  {
   "cell_type": "code",
   "execution_count": 35,
   "id": "8c6d9b4a-7906-4e1e-a898-de414605423f",
   "metadata": {},
   "outputs": [],
   "source": [
    "# 1. Sequential Control Flow Statement:"
   ]
  },
  {
   "cell_type": "code",
   "execution_count": 36,
   "id": "ea890b12-aec9-42e3-be82-14b7eb174de4",
   "metadata": {},
   "outputs": [],
   "source": [
    "# Line by line execution - as the order we given"
   ]
  },
  {
   "cell_type": "code",
   "execution_count": null,
   "id": "ca5c67a4-3076-4ace-b971-465e9d77f76e",
   "metadata": {},
   "outputs": [],
   "source": []
  },
  {
   "cell_type": "code",
   "execution_count": 37,
   "id": "57a5ee16-e9f7-4ed0-a12c-d342d2826b91",
   "metadata": {},
   "outputs": [],
   "source": [
    "# 2. Decision Control Flow Statement:"
   ]
  },
  {
   "cell_type": "code",
   "execution_count": 38,
   "id": "505c8edc-ea8d-4a64-98c6-3e5bc0cc3358",
   "metadata": {},
   "outputs": [],
   "source": [
    "# Depending upon whether a condition is True or False, the decision structure may skip execution of an entire block of statements\n",
    "# or even execute one block of statements instead of others."
   ]
  },
  {
   "cell_type": "code",
   "execution_count": null,
   "id": "9b0eb70a-9cd5-4932-998e-de4b55cc4f90",
   "metadata": {},
   "outputs": [],
   "source": []
  },
  {
   "cell_type": "code",
   "execution_count": 39,
   "id": "3ae978f2-efd8-45fe-8460-ecfa1f95bb0c",
   "metadata": {},
   "outputs": [],
   "source": [
    "# 2.1. The if Decision Control Flow Statement:"
   ]
  },
  {
   "cell_type": "code",
   "execution_count": 40,
   "id": "c717cee9-70c4-4524-b62b-487f878eff38",
   "metadata": {},
   "outputs": [],
   "source": [
    "# The if decision control flow statement starts with if keyword and ends with a colon. \n",
    "\n",
    "# The expression in an if statement should be a Boolean expression."
   ]
  },
  {
   "cell_type": "code",
   "execution_count": 41,
   "id": "4c97708c-f05e-4e36-a95f-82e61fdee081",
   "metadata": {},
   "outputs": [
    {
     "name": "stdout",
     "output_type": "stream",
     "text": [
      "15 is greater\n"
     ]
    }
   ],
   "source": [
    "if 10 < 15:\n",
    "    print('15 is greater')"
   ]
  },
  {
   "cell_type": "code",
   "execution_count": 42,
   "id": "19c7409b-67de-4ecc-aa01-aa2be5f3b1b4",
   "metadata": {},
   "outputs": [
    {
     "name": "stdin",
     "output_type": "stream",
     "text": [
      "Enter a number 5\n"
     ]
    },
    {
     "name": "stdout",
     "output_type": "stream",
     "text": [
      "The number entered by the user is a positive number\n"
     ]
    }
   ],
   "source": [
    "number = int(input(\"Enter a number\"))\n",
    "if number >= 0:\n",
    "    print(f\"The number entered by the user is a positive number\")"
   ]
  },
  {
   "cell_type": "code",
   "execution_count": null,
   "id": "cf5d960c-83a7-4850-a27e-a8d979e68cdd",
   "metadata": {},
   "outputs": [],
   "source": []
  },
  {
   "cell_type": "code",
   "execution_count": 43,
   "id": "f3396ca2-469d-4f27-8fe4-f41101b759af",
   "metadata": {},
   "outputs": [],
   "source": [
    "# 2.2 The if…else Decision Control Flow Statement:"
   ]
  },
  {
   "cell_type": "code",
   "execution_count": 44,
   "id": "0f8cfc15-7c0f-4976-bb9f-1f9f7a42565d",
   "metadata": {},
   "outputs": [],
   "source": [
    "# An if statement can also be followed by an else statement which is optional. \n",
    "\n",
    "# An else statement does not have any condition."
   ]
  },
  {
   "cell_type": "code",
   "execution_count": 45,
   "id": "895c58e5-80b1-4a92-9705-b69cb7ff7511",
   "metadata": {},
   "outputs": [],
   "source": [
    "# Program to find if the Given number is even or odd."
   ]
  },
  {
   "cell_type": "code",
   "execution_count": 46,
   "id": "b84762b1-af0b-47eb-8df6-6d41c76cde85",
   "metadata": {},
   "outputs": [
    {
     "name": "stdin",
     "output_type": "stream",
     "text": [
      "Enter a number: 2\n"
     ]
    },
    {
     "name": "stdout",
     "output_type": "stream",
     "text": [
      "2 is even\n"
     ]
    }
   ],
   "source": [
    "num = int(input('Enter a number:'))\n",
    "if num % 2 == 0:\n",
    "    print(f'{num} is even')\n",
    "else:\n",
    "    print(f'{num} is odd')"
   ]
  },
  {
   "cell_type": "code",
   "execution_count": null,
   "id": "36df34a4-5994-4ed8-a998-7dbd27c76b26",
   "metadata": {},
   "outputs": [],
   "source": []
  },
  {
   "cell_type": "code",
   "execution_count": 47,
   "id": "0a5e1832-81f6-41f4-ae17-84e9c9d4fd58",
   "metadata": {},
   "outputs": [],
   "source": [
    "# 2.3 The if...elif...else Decision Control Flow Statement:"
   ]
  },
  {
   "cell_type": "code",
   "execution_count": 48,
   "id": "98d5b139-825b-42e5-9251-b228719f52bc",
   "metadata": {},
   "outputs": [],
   "source": [
    "# The keyword ‘elif’ is short for ‘else if’ and is useful to avoid excessive indentation.\n",
    "\n",
    "# When you need to choose from several possible alternatives, then an elif statement is used along with an if statement."
   ]
  },
  {
   "cell_type": "code",
   "execution_count": 49,
   "id": "c6fe1644-98f0-4ccf-8868-03b07d7a91e8",
   "metadata": {},
   "outputs": [],
   "source": [
    "# Program to find the given numbers are same or greater or lesser than the other one."
   ]
  },
  {
   "cell_type": "code",
   "execution_count": 50,
   "id": "5abae718-88e6-4437-b5bc-5709f1bff900",
   "metadata": {},
   "outputs": [
    {
     "name": "stdout",
     "output_type": "stream",
     "text": [
      "a is greater than b\n"
     ]
    }
   ],
   "source": [
    "a = 200\n",
    "b = 33\n",
    "if b > a:\n",
    "  print(\"b is greater than a\")\n",
    "elif a == b:\n",
    "  print(\"a and b are equal\")\n",
    "else:\n",
    "  print(\"a is greater than b\")"
   ]
  },
  {
   "cell_type": "code",
   "execution_count": null,
   "id": "87f80fa6-adbe-43ea-b6e8-14194b330fbc",
   "metadata": {},
   "outputs": [],
   "source": []
  },
  {
   "cell_type": "code",
   "execution_count": 51,
   "id": "8d185387-f682-40b2-b62b-7c540bdd51f2",
   "metadata": {},
   "outputs": [],
   "source": [
    "# 2.4 The Nested if Decision Control Flow Statement:"
   ]
  },
  {
   "cell_type": "code",
   "execution_count": 52,
   "id": "a7e57492-ab34-4315-9b50-e9e09b45e1e2",
   "metadata": {},
   "outputs": [],
   "source": [
    "# An if statement that contains another if statement either in its if block or else block is called a Nested if statement."
   ]
  },
  {
   "cell_type": "code",
   "execution_count": 53,
   "id": "b07957da-1b45-4f50-a59c-5246f22db0a4",
   "metadata": {},
   "outputs": [],
   "source": [
    "# Program to mention the given number is in which range of number."
   ]
  },
  {
   "cell_type": "code",
   "execution_count": 54,
   "id": "fc826fa3-2764-45db-b350-c7c77e775849",
   "metadata": {
    "scrolled": true
   },
   "outputs": [
    {
     "name": "stdout",
     "output_type": "stream",
     "text": [
      "Above ten,\n",
      "and also above 20!\n"
     ]
    }
   ],
   "source": [
    "x = 41\n",
    "\n",
    "if x > 10:\n",
    "  print(\"Above ten,\")\n",
    "  if x > 20:\n",
    "    print(\"and also above 20!\")\n",
    "  else:\n",
    "    print(\"but not above 20.\")\n"
   ]
  },
  {
   "cell_type": "code",
   "execution_count": 55,
   "id": "075a268d-88f7-4812-bb10-ede866a2ac7f",
   "metadata": {},
   "outputs": [],
   "source": [
    "# Program to identify the leap year"
   ]
  },
  {
   "cell_type": "code",
   "execution_count": 56,
   "id": "8f01ac20-c537-45d7-aed8-9b28b5dd3931",
   "metadata": {},
   "outputs": [
    {
     "name": "stdin",
     "output_type": "stream",
     "text": [
      "Enter a year: 2000\n"
     ]
    },
    {
     "name": "stdout",
     "output_type": "stream",
     "text": [
      "2000 is a Leap Year\n"
     ]
    }
   ],
   "source": [
    "year = int(input('Enter a year:'))\n",
    "if year % 4 == 0:\n",
    "    if year % 100 == 0:\n",
    "        if year % 400 == 0:\n",
    "            print('{0} is a Leap Year'.format(year))\n",
    "        else:\n",
    "            print(f'{year} is not a Leap Year')\n",
    "    else:  \n",
    "          print(f'{year} is a Leap Year')\n",
    "else:\n",
    "    print(f'{year} is not a Leap Year')\n",
    "         "
   ]
  },
  {
   "cell_type": "code",
   "execution_count": null,
   "id": "084fea3f-6602-4853-bc13-570d32b4915f",
   "metadata": {},
   "outputs": [],
   "source": []
  },
  {
   "cell_type": "code",
   "execution_count": 57,
   "id": "9eb951b8-c27f-4869-bcd1-b2af6a349793",
   "metadata": {},
   "outputs": [],
   "source": [
    "# 3. Loop Control Flow Statement:"
   ]
  },
  {
   "cell_type": "code",
   "execution_count": 58,
   "id": "f38254ba-bebd-45a0-b131-4f3fee07a275",
   "metadata": {},
   "outputs": [],
   "source": [
    "# This is a control structure that allows the execution of a block of statements multiple times until a loop termination condition is met\n",
    "\n",
    "# Loop Control Flow Statements are also called Repetition statements or Iteration statements."
   ]
  },
  {
   "cell_type": "code",
   "execution_count": null,
   "id": "20bea173-484a-47d6-9e73-df86ddc4c7d9",
   "metadata": {},
   "outputs": [],
   "source": []
  },
  {
   "cell_type": "code",
   "execution_count": 59,
   "id": "3ea1bfc2-884b-448a-866e-556726526be0",
   "metadata": {},
   "outputs": [],
   "source": [
    "# 3.1 While loop Control Flow Statement:"
   ]
  },
  {
   "cell_type": "code",
   "execution_count": 60,
   "id": "fa719cbe-f0bc-4deb-946b-c2fe63ec6e09",
   "metadata": {},
   "outputs": [],
   "source": [
    "#The while loop starts with the while keyword and ends with a colon.\n",
    "\n",
    "# With a while statement, the first thing that happens is that the Boolean expression is evaluated \n",
    "# before the statements in the while loop block is executed.\n",
    "\n",
    "# Each repetition of the loop block is called an iteration of the loop.\n",
    "\n",
    "# This process continues until the Boolean expression evaluates to False and at this point the while statement exits."
   ]
  },
  {
   "cell_type": "code",
   "execution_count": 61,
   "id": "23a505ed-717a-4c4c-96ee-7f06701883ac",
   "metadata": {},
   "outputs": [],
   "source": [
    "# Write Python Program to Display First 10 Numbers Using while Loop Starting from 0"
   ]
  },
  {
   "cell_type": "code",
   "execution_count": 62,
   "id": "ff738331-6bcf-4480-8127-e1c9ca2e8b63",
   "metadata": {},
   "outputs": [
    {
     "name": "stdout",
     "output_type": "stream",
     "text": [
      " value of i is: 0\n",
      " value of i is: 1\n",
      " value of i is: 2\n",
      " value of i is: 3\n",
      " value of i is: 4\n",
      " value of i is: 5\n",
      " value of i is: 6\n",
      " value of i is: 7\n",
      " value of i is: 8\n",
      " value of i is: 9\n"
     ]
    }
   ],
   "source": [
    "i = 0\n",
    "while i < 10:\n",
    "    print(f' value of i is: {i}')\n",
    "    i = i + 1"
   ]
  },
  {
   "cell_type": "code",
   "execution_count": null,
   "id": "4b1268c6-a6bc-4fb9-b852-300cac0f297a",
   "metadata": {},
   "outputs": [],
   "source": []
  },
  {
   "cell_type": "code",
   "execution_count": 63,
   "id": "f6d90234-4f54-4da5-a7f1-1fc791f09dce",
   "metadata": {},
   "outputs": [],
   "source": [
    "# 3.2 The for Loop Control Flow Statements:"
   ]
  },
  {
   "cell_type": "code",
   "execution_count": 64,
   "id": "28146113-da11-4910-ae06-3713b7943a08",
   "metadata": {},
   "outputs": [],
   "source": [
    "# The for loop starts with for keyword and ends with a colon.\n",
    "\n",
    "# The first item in the sequence gets assigned to the iteration variable.\n",
    "\n",
    "# The process of assigning items from the sequence to the iteration_variable \n",
    "# and then executing the statement continues until all the items in the sequence are completed."
   ]
  },
  {
   "cell_type": "code",
   "execution_count": 65,
   "id": "8771e93d-5202-4f4d-b5e2-7cb59f444812",
   "metadata": {},
   "outputs": [],
   "source": [
    "# The range() function generates a sequence of numbers which can be iterated through using for loop\n",
    "\n",
    "# The syntax for range() function is, \"range([start ,] stop [, step])\"              ~[] is optional"
   ]
  },
  {
   "cell_type": "code",
   "execution_count": 66,
   "id": "9ead80e3-9abd-4164-bb74-46fd1aae1c6e",
   "metadata": {},
   "outputs": [],
   "source": [
    "# Write a Program to Find the Sum of All Odd and Even Numbers up to a Number Specified by the User."
   ]
  },
  {
   "cell_type": "code",
   "execution_count": 67,
   "id": "91c4d8c2-5935-4b12-ac5e-6ca87a3033f8",
   "metadata": {},
   "outputs": [
    {
     "name": "stdin",
     "output_type": "stream",
     "text": [
      "Enter a number 6\n"
     ]
    },
    {
     "name": "stdout",
     "output_type": "stream",
     "text": [
      " The sum of Even numbers is 6\n",
      " The sum of Odd numbers is 9\n"
     ]
    }
   ],
   "source": [
    "number = int(input(\"Enter a number\"))\n",
    "even = 0\n",
    "odd = 0\n",
    "for i in range(number):\n",
    "    if i % 2 == 0:\n",
    "        even = even + i\n",
    "    else:\n",
    "        odd = odd + i \n",
    "print(f' The sum of Even numbers is {even}')\n",
    "print(f' The sum of Odd numbers is {odd}')"
   ]
  },
  {
   "cell_type": "code",
   "execution_count": null,
   "id": "23d8d330-1876-4878-b2d3-3613d3a1f648",
   "metadata": {},
   "outputs": [],
   "source": []
  },
  {
   "cell_type": "code",
   "execution_count": 68,
   "id": "ecc7c63d-826a-4adb-b4e7-8daaba1803a3",
   "metadata": {},
   "outputs": [],
   "source": [
    "# 4. Break Statement:"
   ]
  },
  {
   "cell_type": "code",
   "execution_count": 69,
   "id": "3fab7a10-c6a7-4acc-92a9-34552222110a",
   "metadata": {},
   "outputs": [],
   "source": [
    "# Whenever the break statement is encountered, the execution control immediately jumps to the first imstruction following the loop"
   ]
  },
  {
   "cell_type": "code",
   "execution_count": 70,
   "id": "70cc6f6a-f217-48ee-906e-8ff8cb08f294",
   "metadata": {},
   "outputs": [],
   "source": [
    "# Write a Program to Check Whether a Number Is Prime or Not"
   ]
  },
  {
   "cell_type": "code",
   "execution_count": 71,
   "id": "09152956-861e-4e28-b10e-3801bcbea3dd",
   "metadata": {},
   "outputs": [
    {
     "name": "stdin",
     "output_type": "stream",
     "text": [
      "Enter a number: 5\n"
     ]
    },
    {
     "name": "stdout",
     "output_type": "stream",
     "text": [
      " 5 is a Prime number\n"
     ]
    }
   ],
   "source": [
    "num = int(input('Enter a number:'))\n",
    "prime = True\n",
    "for i in range(2,num):           # Use range() function to generate numbers starting from 2 up to number – 1, excluding the user entered number\n",
    "    if num % i == 0:\n",
    "        prime = False\n",
    "        break\n",
    "if prime:\n",
    "    print(f' {num} is a Prime number')\n",
    "else:\n",
    "    print(f'{num} is not a Prime number')\n",
    "    \n"
   ]
  },
  {
   "cell_type": "code",
   "execution_count": null,
   "id": "ce355049-0fb3-488c-a385-94040f8de103",
   "metadata": {},
   "outputs": [],
   "source": []
  },
  {
   "cell_type": "code",
   "execution_count": 72,
   "id": "4151bd50-546f-43ed-9979-2e03b709dc1b",
   "metadata": {},
   "outputs": [],
   "source": [
    "# 5. Continue Statement:"
   ]
  },
  {
   "cell_type": "code",
   "execution_count": 73,
   "id": "36fddc51-b7d8-4d18-a16a-27b22ff0e70b",
   "metadata": {},
   "outputs": [],
   "source": [
    "# Continue statement is opposite to the break statement, instead of terminating the loop,\n",
    "# it forces to execute the next iteration of the loop."
   ]
  },
  {
   "cell_type": "code",
   "execution_count": 74,
   "id": "041294d9-8a6e-492d-8019-03c4a8c4538c",
   "metadata": {},
   "outputs": [],
   "source": [
    "# Write a program to print the numbers from 1 to 10 without printing number 6."
   ]
  },
  {
   "cell_type": "code",
   "execution_count": 75,
   "id": "8e77c3af-9eb8-4bae-bc54-05775316d37a",
   "metadata": {},
   "outputs": [
    {
     "name": "stdout",
     "output_type": "stream",
     "text": [
      "1 2 3 4 5 7 8 9 10 "
     ]
    }
   ],
   "source": [
    "# loop from 1 to 10\n",
    "for i in range(1, 11):               # loop from 1 to 10\n",
    "    if i == 6:                       # If i is equals to 6,\n",
    "        continue                     # continue to next iteration without printing\n",
    "    else:\n",
    "        print(i, end=\" \")            # otherwise, print the number\n"
   ]
  },
  {
   "cell_type": "code",
   "execution_count": null,
   "id": "25f281ff-c007-40ea-9ca6-50c79a5d7dfe",
   "metadata": {},
   "outputs": [],
   "source": []
  },
  {
   "cell_type": "code",
   "execution_count": 76,
   "id": "b05eaa7b-92b8-4c8f-a03b-ebbd9b84421a",
   "metadata": {},
   "outputs": [],
   "source": [
    "# 6. Pass Statement:"
   ]
  },
  {
   "cell_type": "code",
   "execution_count": 77,
   "id": "74514e2a-2449-4d96-b8eb-1859e35007f9",
   "metadata": {},
   "outputs": [],
   "source": [
    "# The pass statement in Python is used when a statement is required syntactically, \n",
    "# but you do not want any command or code to execute.\n",
    "\n",
    "#It is like a null operation, as nothing will happen if it is executed.\n",
    "\n",
    "# It is also be used for writing empty loops, empty classes, empty functions."
   ]
  },
  {
   "cell_type": "code",
   "execution_count": 78,
   "id": "4c3f90d8-223e-479d-a758-fca8360c28e0",
   "metadata": {},
   "outputs": [],
   "source": [
    "# Using pass as a placeholder inside an if statement\n",
    "x = 5\n",
    "if x > 10:\n",
    "\tpass\n",
    "\n",
    "# Using pass in a function definition as a \n",
    "# placeholder for implementation\n",
    "def my_function():\n",
    "\tpass\n",
    "\n",
    "# Using pass in a class definition as\n",
    "# a placeholder for implementation\n",
    "\n",
    "class MyClass:\n",
    "\tdef __init__(self):\n",
    "\t\tpass\n"
   ]
  },
  {
   "cell_type": "code",
   "execution_count": null,
   "id": "8c9e4511-0291-4ed0-8579-54d3d1998551",
   "metadata": {},
   "outputs": [],
   "source": []
  },
  {
   "cell_type": "markdown",
   "id": "7d06a35f-feca-4227-b2df-d868e16daea5",
   "metadata": {},
   "source": [
    "# FUNCTION"
   ]
  },
  {
   "cell_type": "code",
   "execution_count": 79,
   "id": "bff0bd81-e15d-4aff-9f17-9aaba835eb39",
   "metadata": {},
   "outputs": [],
   "source": [
    "# A function is a block of code which only runs when it is called.\n",
    "\n",
    "# Functions are used when you have a block of statements that needs to be executed multiple times within the program.\n",
    "\n",
    "# Functions also reduce the size of the program by eliminating rudimentory code."
   ]
  },
  {
   "cell_type": "markdown",
   "id": "54da4125-527c-4447-a8b4-eada8d3d3a32",
   "metadata": {},
   "source": [
    "# Built-In Function:"
   ]
  },
  {
   "cell_type": "code",
   "execution_count": 80,
   "id": "7051ff9e-99d6-4f35-a002-28a69b652b41",
   "metadata": {},
   "outputs": [],
   "source": [
    "# Built-In functions are the pre-defined function in Python that allows using the besic properties of string\n",
    "# and numbers in rules.\n",
    "\n",
    "# Ex.: int(), input(), max(), min(),...etc.,"
   ]
  },
  {
   "cell_type": "markdown",
   "id": "fef4ca0c-8262-49ea-80f4-eb0b8c7b5905",
   "metadata": {},
   "source": [
    "# User defined Function:"
   ]
  },
  {
   "cell_type": "code",
   "execution_count": 81,
   "id": "cbdfd39e-4ff0-4333-99b4-a84920ba78da",
   "metadata": {},
   "outputs": [],
   "source": [
    "# User defined functions are the functions defined by used to perform specific tasks."
   ]
  },
  {
   "cell_type": "code",
   "execution_count": null,
   "id": "9f6e479b-d1a4-49c2-b99d-e7fe9e5c6ee3",
   "metadata": {},
   "outputs": [],
   "source": []
  },
  {
   "cell_type": "code",
   "execution_count": 82,
   "id": "8f6dca0b-88f3-45ce-a5e0-6bf1bf944835",
   "metadata": {},
   "outputs": [
    {
     "data": {
      "text/plain": [
       "'def function_name(parameter_1, parameter_2, ... , parameter_n):\\n       statement()     '"
      ]
     },
     "execution_count": 82,
     "metadata": {},
     "output_type": "execute_result"
    }
   ],
   "source": [
    "# Syntax for Function:\n",
    "\n",
    "\"\"\"def function_name(parameter_1, parameter_2, ... , parameter_n):\n",
    "       statement()     \"\"\"\n",
    "\n",
    "# Notes:\n",
    "\n",
    "# --> The def keyword introduces a function definition\n",
    "# --> The function’s name has to adhere to the same naming rules as variables\n",
    "# --> A colon is required at the end of the function header which is the first line of the function definition \n",
    "                                                        # that contains the name of the function\n"
   ]
  },
  {
   "cell_type": "code",
   "execution_count": 83,
   "id": "3585c20b-cfd5-4491-b242-fcab391b7562",
   "metadata": {},
   "outputs": [],
   "source": [
    "# Create a Function(Without any parameters)\n",
    "\n",
    "def my_function():\n",
    "  print(\"Hello from a function\")"
   ]
  },
  {
   "cell_type": "code",
   "execution_count": null,
   "id": "188777be-47a5-4def-ac01-40bf0d0bccf8",
   "metadata": {},
   "outputs": [],
   "source": []
  },
  {
   "cell_type": "code",
   "execution_count": 84,
   "id": "8421d110-f48e-4d6e-b972-c1d452a04077",
   "metadata": {},
   "outputs": [
    {
     "data": {
      "text/plain": [
       "' function_name(argument_1, argument_2, ... , argument_n)  '"
      ]
     },
     "execution_count": 84,
     "metadata": {},
     "output_type": "execute_result"
    }
   ],
   "source": [
    "# Syntax for Calling Function:\n",
    "\n",
    "\"\"\" function_name(argument_1, argument_2, ... , argument_n)  \"\"\"\n",
    "\n",
    "# --> An argument is the value that is sent to the function when it is called."
   ]
  },
  {
   "cell_type": "code",
   "execution_count": 85,
   "id": "f9dd456a-9648-4a6e-80a4-86fd05a3a553",
   "metadata": {},
   "outputs": [
    {
     "name": "stdout",
     "output_type": "stream",
     "text": [
      "Hello from a function\n"
     ]
    }
   ],
   "source": [
    "# Calling the Function\n",
    "\n",
    "my_function()\n"
   ]
  },
  {
   "cell_type": "code",
   "execution_count": null,
   "id": "85c4ec23-7576-40d4-9004-250addf05322",
   "metadata": {},
   "outputs": [],
   "source": []
  },
  {
   "cell_type": "code",
   "execution_count": 86,
   "id": "13d47fa6-c29d-4b6b-b835-062bd472e85b",
   "metadata": {},
   "outputs": [
    {
     "name": "stdout",
     "output_type": "stream",
     "text": [
      "Priyadharsini Paramasivan\n",
      "Muthulakshmi Paramasivan\n",
      "Raja Aswini Paramasivan\n"
     ]
    }
   ],
   "source": [
    "# Create a function with one parameter and call the function:\n",
    "\n",
    "def my_function(fname):\n",
    "  print(fname + \" Paramasivan\")\n",
    "\n",
    "my_function(\"Priyadharsini\")\n",
    "my_function(\"Muthulakshmi\")\n",
    "my_function(\"Raja Aswini\")"
   ]
  },
  {
   "cell_type": "code",
   "execution_count": null,
   "id": "d1bf50e4-6aa2-4dbf-a399-e894f91dab05",
   "metadata": {},
   "outputs": [],
   "source": []
  }
 ],
 "metadata": {
  "kernelspec": {
   "display_name": "Python 3 (ipykernel)",
   "language": "python",
   "name": "python3"
  },
  "language_info": {
   "codemirror_mode": {
    "name": "ipython",
    "version": 3
   },
   "file_extension": ".py",
   "mimetype": "text/x-python",
   "name": "python",
   "nbconvert_exporter": "python",
   "pygments_lexer": "ipython3",
   "version": "3.11.7"
  }
 },
 "nbformat": 4,
 "nbformat_minor": 5
}
